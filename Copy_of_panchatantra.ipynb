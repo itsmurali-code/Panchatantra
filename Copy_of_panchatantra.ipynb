{
  "nbformat": 4,
  "nbformat_minor": 0,
  "metadata": {
    "colab": {
      "provenance": [],
      "gpuType": "T4",
      "authorship_tag": "ABX9TyPejYnW2XjINmboGV95TbsI",
      "include_colab_link": true
    },
    "kernelspec": {
      "name": "python3",
      "display_name": "Python 3"
    },
    "language_info": {
      "name": "python"
    },
    "accelerator": "GPU",
    "widgets": {
      "application/vnd.jupyter.widget-state+json": {
        "060b15d1aea14c56b6f0970ae9745002": {
          "model_module": "@jupyter-widgets/controls",
          "model_name": "HBoxModel",
          "model_module_version": "1.5.0",
          "state": {
            "_dom_classes": [],
            "_model_module": "@jupyter-widgets/controls",
            "_model_module_version": "1.5.0",
            "_model_name": "HBoxModel",
            "_view_count": null,
            "_view_module": "@jupyter-widgets/controls",
            "_view_module_version": "1.5.0",
            "_view_name": "HBoxView",
            "box_style": "",
            "children": [
              "IPY_MODEL_4218c0b148a942a494555318b0e26325",
              "IPY_MODEL_820204863e704699be0c50a6075e4784",
              "IPY_MODEL_546327a9a6c84c1dab1d181e535cb20c"
            ],
            "layout": "IPY_MODEL_a7a63bec6da44452becbd4c0eafc6b08"
          }
        },
        "4218c0b148a942a494555318b0e26325": {
          "model_module": "@jupyter-widgets/controls",
          "model_name": "HTMLModel",
          "model_module_version": "1.5.0",
          "state": {
            "_dom_classes": [],
            "_model_module": "@jupyter-widgets/controls",
            "_model_module_version": "1.5.0",
            "_model_name": "HTMLModel",
            "_view_count": null,
            "_view_module": "@jupyter-widgets/controls",
            "_view_module_version": "1.5.0",
            "_view_name": "HTMLView",
            "description": "",
            "description_tooltip": null,
            "layout": "IPY_MODEL_711894d90d0943edbed112b5f52e863d",
            "placeholder": "​",
            "style": "IPY_MODEL_de1c9dcea2424df29196a21bdb0b5ff2",
            "value": "Loading checkpoint shards: 100%"
          }
        },
        "820204863e704699be0c50a6075e4784": {
          "model_module": "@jupyter-widgets/controls",
          "model_name": "FloatProgressModel",
          "model_module_version": "1.5.0",
          "state": {
            "_dom_classes": [],
            "_model_module": "@jupyter-widgets/controls",
            "_model_module_version": "1.5.0",
            "_model_name": "FloatProgressModel",
            "_view_count": null,
            "_view_module": "@jupyter-widgets/controls",
            "_view_module_version": "1.5.0",
            "_view_name": "ProgressView",
            "bar_style": "success",
            "description": "",
            "description_tooltip": null,
            "layout": "IPY_MODEL_4e0fe681fda14502bea61c3a0e3fbc19",
            "max": 2,
            "min": 0,
            "orientation": "horizontal",
            "style": "IPY_MODEL_f33370c87dd44e1bac3479d374c111c3",
            "value": 2
          }
        },
        "546327a9a6c84c1dab1d181e535cb20c": {
          "model_module": "@jupyter-widgets/controls",
          "model_name": "HTMLModel",
          "model_module_version": "1.5.0",
          "state": {
            "_dom_classes": [],
            "_model_module": "@jupyter-widgets/controls",
            "_model_module_version": "1.5.0",
            "_model_name": "HTMLModel",
            "_view_count": null,
            "_view_module": "@jupyter-widgets/controls",
            "_view_module_version": "1.5.0",
            "_view_name": "HTMLView",
            "description": "",
            "description_tooltip": null,
            "layout": "IPY_MODEL_296233acc2ea459cbbda074638db9bf5",
            "placeholder": "​",
            "style": "IPY_MODEL_72ec49cc72c5491d9590b1d802977e92",
            "value": " 2/2 [00:19&lt;00:00,  8.59s/it]"
          }
        },
        "a7a63bec6da44452becbd4c0eafc6b08": {
          "model_module": "@jupyter-widgets/base",
          "model_name": "LayoutModel",
          "model_module_version": "1.2.0",
          "state": {
            "_model_module": "@jupyter-widgets/base",
            "_model_module_version": "1.2.0",
            "_model_name": "LayoutModel",
            "_view_count": null,
            "_view_module": "@jupyter-widgets/base",
            "_view_module_version": "1.2.0",
            "_view_name": "LayoutView",
            "align_content": null,
            "align_items": null,
            "align_self": null,
            "border": null,
            "bottom": null,
            "display": null,
            "flex": null,
            "flex_flow": null,
            "grid_area": null,
            "grid_auto_columns": null,
            "grid_auto_flow": null,
            "grid_auto_rows": null,
            "grid_column": null,
            "grid_gap": null,
            "grid_row": null,
            "grid_template_areas": null,
            "grid_template_columns": null,
            "grid_template_rows": null,
            "height": null,
            "justify_content": null,
            "justify_items": null,
            "left": null,
            "margin": null,
            "max_height": null,
            "max_width": null,
            "min_height": null,
            "min_width": null,
            "object_fit": null,
            "object_position": null,
            "order": null,
            "overflow": null,
            "overflow_x": null,
            "overflow_y": null,
            "padding": null,
            "right": null,
            "top": null,
            "visibility": null,
            "width": null
          }
        },
        "711894d90d0943edbed112b5f52e863d": {
          "model_module": "@jupyter-widgets/base",
          "model_name": "LayoutModel",
          "model_module_version": "1.2.0",
          "state": {
            "_model_module": "@jupyter-widgets/base",
            "_model_module_version": "1.2.0",
            "_model_name": "LayoutModel",
            "_view_count": null,
            "_view_module": "@jupyter-widgets/base",
            "_view_module_version": "1.2.0",
            "_view_name": "LayoutView",
            "align_content": null,
            "align_items": null,
            "align_self": null,
            "border": null,
            "bottom": null,
            "display": null,
            "flex": null,
            "flex_flow": null,
            "grid_area": null,
            "grid_auto_columns": null,
            "grid_auto_flow": null,
            "grid_auto_rows": null,
            "grid_column": null,
            "grid_gap": null,
            "grid_row": null,
            "grid_template_areas": null,
            "grid_template_columns": null,
            "grid_template_rows": null,
            "height": null,
            "justify_content": null,
            "justify_items": null,
            "left": null,
            "margin": null,
            "max_height": null,
            "max_width": null,
            "min_height": null,
            "min_width": null,
            "object_fit": null,
            "object_position": null,
            "order": null,
            "overflow": null,
            "overflow_x": null,
            "overflow_y": null,
            "padding": null,
            "right": null,
            "top": null,
            "visibility": null,
            "width": null
          }
        },
        "de1c9dcea2424df29196a21bdb0b5ff2": {
          "model_module": "@jupyter-widgets/controls",
          "model_name": "DescriptionStyleModel",
          "model_module_version": "1.5.0",
          "state": {
            "_model_module": "@jupyter-widgets/controls",
            "_model_module_version": "1.5.0",
            "_model_name": "DescriptionStyleModel",
            "_view_count": null,
            "_view_module": "@jupyter-widgets/base",
            "_view_module_version": "1.2.0",
            "_view_name": "StyleView",
            "description_width": ""
          }
        },
        "4e0fe681fda14502bea61c3a0e3fbc19": {
          "model_module": "@jupyter-widgets/base",
          "model_name": "LayoutModel",
          "model_module_version": "1.2.0",
          "state": {
            "_model_module": "@jupyter-widgets/base",
            "_model_module_version": "1.2.0",
            "_model_name": "LayoutModel",
            "_view_count": null,
            "_view_module": "@jupyter-widgets/base",
            "_view_module_version": "1.2.0",
            "_view_name": "LayoutView",
            "align_content": null,
            "align_items": null,
            "align_self": null,
            "border": null,
            "bottom": null,
            "display": null,
            "flex": null,
            "flex_flow": null,
            "grid_area": null,
            "grid_auto_columns": null,
            "grid_auto_flow": null,
            "grid_auto_rows": null,
            "grid_column": null,
            "grid_gap": null,
            "grid_row": null,
            "grid_template_areas": null,
            "grid_template_columns": null,
            "grid_template_rows": null,
            "height": null,
            "justify_content": null,
            "justify_items": null,
            "left": null,
            "margin": null,
            "max_height": null,
            "max_width": null,
            "min_height": null,
            "min_width": null,
            "object_fit": null,
            "object_position": null,
            "order": null,
            "overflow": null,
            "overflow_x": null,
            "overflow_y": null,
            "padding": null,
            "right": null,
            "top": null,
            "visibility": null,
            "width": null
          }
        },
        "f33370c87dd44e1bac3479d374c111c3": {
          "model_module": "@jupyter-widgets/controls",
          "model_name": "ProgressStyleModel",
          "model_module_version": "1.5.0",
          "state": {
            "_model_module": "@jupyter-widgets/controls",
            "_model_module_version": "1.5.0",
            "_model_name": "ProgressStyleModel",
            "_view_count": null,
            "_view_module": "@jupyter-widgets/base",
            "_view_module_version": "1.2.0",
            "_view_name": "StyleView",
            "bar_color": null,
            "description_width": ""
          }
        },
        "296233acc2ea459cbbda074638db9bf5": {
          "model_module": "@jupyter-widgets/base",
          "model_name": "LayoutModel",
          "model_module_version": "1.2.0",
          "state": {
            "_model_module": "@jupyter-widgets/base",
            "_model_module_version": "1.2.0",
            "_model_name": "LayoutModel",
            "_view_count": null,
            "_view_module": "@jupyter-widgets/base",
            "_view_module_version": "1.2.0",
            "_view_name": "LayoutView",
            "align_content": null,
            "align_items": null,
            "align_self": null,
            "border": null,
            "bottom": null,
            "display": null,
            "flex": null,
            "flex_flow": null,
            "grid_area": null,
            "grid_auto_columns": null,
            "grid_auto_flow": null,
            "grid_auto_rows": null,
            "grid_column": null,
            "grid_gap": null,
            "grid_row": null,
            "grid_template_areas": null,
            "grid_template_columns": null,
            "grid_template_rows": null,
            "height": null,
            "justify_content": null,
            "justify_items": null,
            "left": null,
            "margin": null,
            "max_height": null,
            "max_width": null,
            "min_height": null,
            "min_width": null,
            "object_fit": null,
            "object_position": null,
            "order": null,
            "overflow": null,
            "overflow_x": null,
            "overflow_y": null,
            "padding": null,
            "right": null,
            "top": null,
            "visibility": null,
            "width": null
          }
        },
        "72ec49cc72c5491d9590b1d802977e92": {
          "model_module": "@jupyter-widgets/controls",
          "model_name": "DescriptionStyleModel",
          "model_module_version": "1.5.0",
          "state": {
            "_model_module": "@jupyter-widgets/controls",
            "_model_module_version": "1.5.0",
            "_model_name": "DescriptionStyleModel",
            "_view_count": null,
            "_view_module": "@jupyter-widgets/base",
            "_view_module_version": "1.2.0",
            "_view_name": "StyleView",
            "description_width": ""
          }
        }
      }
    }
  },
  "cells": [
    {
      "cell_type": "markdown",
      "metadata": {
        "id": "view-in-github",
        "colab_type": "text"
      },
      "source": [
        "<a href=\"https://colab.research.google.com/github/itsmurali-code/Panchatantra/blob/main/Copy_of_panchatantra.ipynb\" target=\"_parent\"><img src=\"https://colab.research.google.com/assets/colab-badge.svg\" alt=\"Open In Colab\"/></a>"
      ]
    },
    {
      "cell_type": "code",
      "execution_count": null,
      "metadata": {
        "colab": {
          "base_uri": "https://localhost:8080/"
        },
        "id": "J9PxyTvFb6-c",
        "outputId": "1f225b18-2db1-4bfb-e2d3-7966a18da5c0"
      },
      "outputs": [
        {
          "output_type": "stream",
          "name": "stdout",
          "text": [
            "Mounted at /content/drive/\n"
          ]
        }
      ],
      "source": [
        "from google.colab import drive\n",
        "drive.mount('/content/drive/')"
      ]
    },
    {
      "cell_type": "code",
      "source": [
        "%cd /content/drive/MyDrive/Panchatantra/\n",
        "!git clone https://github.com/itsmurali-code/Panchatantra"
      ],
      "metadata": {
        "colab": {
          "base_uri": "https://localhost:8080/"
        },
        "id": "iYgFVIG-cuMU",
        "outputId": "7897485b-9b55-4423-cd6c-e56165ee7989"
      },
      "execution_count": null,
      "outputs": [
        {
          "output_type": "stream",
          "name": "stdout",
          "text": [
            "/content/drive/MyDrive/Panchatantra\n",
            "Cloning into 'Panchatantra'...\n",
            "remote: Enumerating objects: 3, done.\u001b[K\n",
            "remote: Counting objects: 100% (3/3), done.\u001b[K\n",
            "remote: Total 3 (delta 0), reused 0 (delta 0), pack-reused 0 (from 0)\u001b[K\n",
            "Receiving objects: 100% (3/3), done.\n"
          ]
        }
      ]
    },
    {
      "cell_type": "code",
      "source": [
        "!pip install -qU transformers accelerate langchain sentence-transformers\n"
      ],
      "metadata": {
        "id": "IqcmpI8cizjP"
      },
      "execution_count": null,
      "outputs": []
    },
    {
      "cell_type": "code",
      "source": [
        "### Install `langchain-community`\n",
        "!pip install -qU langchain transformers accelerate sentence-transformers langchain-community"
      ],
      "metadata": {
        "colab": {
          "base_uri": "https://localhost:8080/"
        },
        "id": "45DEPGXukiP9",
        "outputId": "79f86bd7-b465-42d4-8065-97ee3bbf30a8"
      },
      "execution_count": null,
      "outputs": [
        {
          "output_type": "stream",
          "name": "stdout",
          "text": [
            "\u001b[?25l   \u001b[90m━━━━━━━━━━━━━━━━━━━━━━━━━━━━━━━━━━━━━━━━\u001b[0m \u001b[32m0.0/2.5 MB\u001b[0m \u001b[31m?\u001b[0m eta \u001b[36m-:--:--\u001b[0m\r\u001b[2K   \u001b[91m━━━━━━━━━━━━━━━━━━━━━━━━━━━━━━━━━━\u001b[0m\u001b[90m╺\u001b[0m\u001b[90m━━━━━\u001b[0m \u001b[32m2.2/2.5 MB\u001b[0m \u001b[31m63.5 MB/s\u001b[0m eta \u001b[36m0:00:01\u001b[0m\r\u001b[2K   \u001b[90m━━━━━━━━━━━━━━━━━━━━━━━━━━━━━━━━━━━━━━━━\u001b[0m \u001b[32m2.5/2.5 MB\u001b[0m \u001b[31m44.6 MB/s\u001b[0m eta \u001b[36m0:00:00\u001b[0m\n",
            "\u001b[?25h\u001b[?25l   \u001b[90m━━━━━━━━━━━━━━━━━━━━━━━━━━━━━━━━━━━━━━━━\u001b[0m \u001b[32m0.0/45.2 kB\u001b[0m \u001b[31m?\u001b[0m eta \u001b[36m-:--:--\u001b[0m\r\u001b[2K   \u001b[90m━━━━━━━━━━━━━━━━━━━━━━━━━━━━━━━━━━━━━━━━\u001b[0m \u001b[32m45.2/45.2 kB\u001b[0m \u001b[31m4.0 MB/s\u001b[0m eta \u001b[36m0:00:00\u001b[0m\n",
            "\u001b[?25h\u001b[?25l   \u001b[90m━━━━━━━━━━━━━━━━━━━━━━━━━━━━━━━━━━━━━━━━\u001b[0m \u001b[32m0.0/50.9 kB\u001b[0m \u001b[31m?\u001b[0m eta \u001b[36m-:--:--\u001b[0m\r\u001b[2K   \u001b[90m━━━━━━━━━━━━━━━━━━━━━━━━━━━━━━━━━━━━━━━━\u001b[0m \u001b[32m50.9/50.9 kB\u001b[0m \u001b[31m4.8 MB/s\u001b[0m eta \u001b[36m0:00:00\u001b[0m\n",
            "\u001b[?25h"
          ]
        }
      ]
    },
    {
      "cell_type": "code",
      "source": [
        "from langchain.llms import HuggingFacePipeline\n",
        "from transformers import AutoTokenizer, AutoModelForCausalLM, pipeline\n",
        "import torch\n",
        "\n",
        "# Load Phi-2 model and tokenizer\n",
        "# Use torch_dtype=torch.float16 to save on GPU memory.\n",
        "model_name = \"microsoft/phi-2\"\n",
        "tokenizer = AutoTokenizer.from_pretrained(model_name, trust_remote_code=True)\n",
        "model = AutoModelForCausalLM.from_pretrained(\n",
        "    model_name,\n",
        "    trust_remote_code=True,\n",
        "    torch_dtype=torch.float16,\n",
        "    device_map=\"auto\" # Automatically moves the model to the GPU\n",
        ")\n",
        "\n",
        "# Create a text generation pipeline\n",
        "phi2_pipeline = pipeline(\n",
        "    \"text-generation\",\n",
        "    model=model,\n",
        "    tokenizer=tokenizer,\n",
        "    max_new_tokens=500,\n",
        "    temperature=0.7,\n",
        "    top_k=50,\n",
        "    top_p=0.95,\n",
        ")\n",
        "\n",
        "# Create a LangChain LLM instance\n",
        "phi2_llm = HuggingFacePipeline(pipeline=phi2_pipeline)"
      ],
      "metadata": {
        "colab": {
          "base_uri": "https://localhost:8080/",
          "height": 66,
          "referenced_widgets": [
            "060b15d1aea14c56b6f0970ae9745002",
            "4218c0b148a942a494555318b0e26325",
            "820204863e704699be0c50a6075e4784",
            "546327a9a6c84c1dab1d181e535cb20c",
            "a7a63bec6da44452becbd4c0eafc6b08",
            "711894d90d0943edbed112b5f52e863d",
            "de1c9dcea2424df29196a21bdb0b5ff2",
            "4e0fe681fda14502bea61c3a0e3fbc19",
            "f33370c87dd44e1bac3479d374c111c3",
            "296233acc2ea459cbbda074638db9bf5",
            "72ec49cc72c5491d9590b1d802977e92"
          ]
        },
        "id": "WKqTq63FjFrd",
        "outputId": "cb46f25f-70e9-4480-e464-8eead0f61060"
      },
      "execution_count": null,
      "outputs": [
        {
          "output_type": "display_data",
          "data": {
            "text/plain": [
              "Loading checkpoint shards:   0%|          | 0/2 [00:00<?, ?it/s]"
            ],
            "application/vnd.jupyter.widget-view+json": {
              "version_major": 2,
              "version_minor": 0,
              "model_id": "060b15d1aea14c56b6f0970ae9745002"
            }
          },
          "metadata": {}
        },
        {
          "output_type": "stream",
          "name": "stderr",
          "text": [
            "Device set to use cuda:0\n"
          ]
        }
      ]
    },
    {
      "cell_type": "code",
      "source": [
        "from langchain.prompts import PromptTemplate\n",
        "from langchain.chains import LLMChain\n",
        "\n",
        "# Define a simple prompt template for story generation\n",
        "story_template = PromptTemplate(\n",
        "    input_variables=[\"prompt\"],\n",
        "    template=\"\"\"Write a short, simple story based on the following idea: {prompt}\n",
        "\n",
        "Story:\n",
        "\"\"\"\n",
        ")\n",
        "\n",
        "# Create the LangChain LLM chain\n",
        "story_chain = LLMChain(prompt=story_template, llm=phi2_llm)"
      ],
      "metadata": {
        "id": "M1YkEu6ojLOQ"
      },
      "execution_count": null,
      "outputs": []
    },
    {
      "cell_type": "code",
      "source": [
        "print(\"Welcome to the AI Story Generator!\")\n",
        "\n",
        "# Take a single prompt\n",
        "user_prompt = input(\"\\nYour Prompt: \")\n",
        "\n",
        "try:\n",
        "    # Run the chain to get the story\n",
        "    generated_story = story_chain.run(user_prompt)\n",
        "    print(\"\\n--- Generated Story ---\")\n",
        "    print(generated_story)\n",
        "except Exception as e:\n",
        "    print(f\"An error occurred: {e}\")"
      ],
      "metadata": {
        "colab": {
          "base_uri": "https://localhost:8080/"
        },
        "id": "vHj_tkKkjPXe",
        "outputId": "91c5c72f-d710-4437-92e5-abbdde0aa862"
      },
      "execution_count": null,
      "outputs": [
        {
          "name": "stdout",
          "output_type": "stream",
          "text": [
            "Welcome to the AI Story Generator!\n",
            "\n",
            "Your Prompt: boy with bat\n"
          ]
        },
        {
          "output_type": "stream",
          "name": "stderr",
          "text": [
            "Setting `pad_token_id` to `eos_token_id`:50256 for open-end generation.\n"
          ]
        },
        {
          "output_type": "stream",
          "name": "stdout",
          "text": [
            "\n",
            "--- Generated Story ---\n",
            "Write a short, simple story based on the following idea: boy with bat\n",
            "\n",
            "Story:\n",
            "\n",
            "Tom was a boy who loved to play baseball. He had a shiny red bat that he always carried with him. He liked to swing his bat and hit the ball as far as he could. He dreamed of becoming a professional baseball player someday.\n",
            "\n",
            "One day, Tom and his friends decided to go to the park and play baseball. They found a nice spot and set up the bases. Tom was the first one to bat. He took his position and waited for the pitcher to throw the ball.\n",
            "\n",
            "The pitcher threw a fast and hard pitch. Tom swung his bat with all his strength and hit the ball. The ball flew high and far in the air. Tom ran after the ball, hoping to catch it.\n",
            "\n",
            "But as he was running, he saw something that made him stop. It was a bat. A big, black bat that was hanging from a tree branch. It looked scary and dangerous. Tom wondered where it came from and why it was there.\n",
            "\n",
            "He decided to ignore it and keep running. But as he got closer to the tree, he heard a loud thud. He turned around and saw that the ball had hit the bat and bounced back to him. The bat was still swinging in the air, heading straight at him.\n",
            "\n",
            "Tom was terrified. He tried to dodge the bat, but he was too late. The bat hit him on the head and knocked him down. Tom felt a sharp pain and a warm blood. He looked at the bat and saw that it had a broken wing and a bloody face. It looked angry and mad.\n",
            "\n",
            "Tom was scared and confused. He didn't know what to do. He heard his friends calling his name and asking if he was okay. He tried to get up, but he couldn't. He felt dizzy and weak. He closed his eyes and wished he had never played baseball.\n",
            "\n"
          ]
        }
      ]
    },
    {
      "cell_type": "code",
      "source": [
        "# Navigate to your repository directory\n",
        "%cd /content/drive/MyDrive/Panchatantra/\n",
        "# Add the changes (your .ipynb file)\n",
        "!git add panchatantra.ipynb\n",
        "\n",
        "# Commit with a message\n",
        "!git commit -m \"Added initial story generation code using Phi-2\"\n",
        "\n",
        "# Push to the remote repository\n",
        "!git push"
      ],
      "metadata": {
        "colab": {
          "base_uri": "https://localhost:8080/"
        },
        "id": "Yc7505lFjT7g",
        "outputId": "0428f0b4-d4b0-41c2-feed-24bcf56414f2"
      },
      "execution_count": null,
      "outputs": [
        {
          "output_type": "stream",
          "name": "stdout",
          "text": [
            "/content/drive/MyDrive/Panchatantra\n",
            "fatal: not a git repository (or any parent up to mount point /content)\n",
            "Stopping at filesystem boundary (GIT_DISCOVERY_ACROSS_FILESYSTEM not set).\n",
            "fatal: not a git repository (or any parent up to mount point /content)\n",
            "Stopping at filesystem boundary (GIT_DISCOVERY_ACROSS_FILESYSTEM not set).\n",
            "fatal: not a git repository (or any parent up to mount point /content)\n",
            "Stopping at filesystem boundary (GIT_DISCOVERY_ACROSS_FILESYSTEM not set).\n"
          ]
        }
      ]
    },
    {
      "cell_type": "code",
      "source": [
        "%cd /content/drive/MyDrive/Panchatantra"
      ],
      "metadata": {
        "colab": {
          "base_uri": "https://localhost:8080/"
        },
        "id": "72BA5UcHuoU4",
        "outputId": "8da43054-aac7-484f-fb4b-3dca56f34b3a"
      },
      "execution_count": null,
      "outputs": [
        {
          "output_type": "stream",
          "name": "stdout",
          "text": [
            "/content/drive/MyDrive/Panchatantra\n"
          ]
        }
      ]
    },
    {
      "cell_type": "code",
      "source": [
        "%%bash\n",
        "# === CONFIGURE ===\n",
        "GITHUB_EMAIL=\"itsmuruli@gmail.com\"        # your GitHub email\n",
        "GITHUB_NAME=\"itsmurali-code\"              # your GitHub username\n",
        "REPO_DIR=\"/content/drive/MyDrive/Panchatantra\"\n",
        "\n",
        "# === 1️⃣ Set Git identity ===\n",
        "git config --global user.email \"$GITHUB_EMAIL\"\n",
        "git config --global user.name \"$GITHUB_NAME\"\n",
        "\n",
        "# === 2️⃣ Go to your repo folder ===\n",
        "cd \"$REPO_DIR\"\n",
        "\n",
        "# === 3️⃣ Find first .ipynb file (even if in subfolders) ===\n",
        "NOTEBOOK_FILE=$(find . -name \"*.ipynb\" | head -n 1)\n",
        "\n",
        "if [ -z \"$NOTEBOOK_FILE\" ]; then\n",
        "    echo \"❌ No .ipynb file found in $REPO_DIR\"\n",
        "    exit 1\n",
        "fi\n",
        "\n",
        "echo \"✅ Found notebook: $NOTEBOOK_FILE\"\n",
        "\n",
        "# === 4️⃣ Add the notebook file ===\n",
        "git add \"$NOTEBOOK_FILE\"\n",
        "\n",
        "# === 5️⃣ Commit changes ===\n",
        "git commit -m \"Initial commit with story generation code\"\n",
        "\n",
        "# === 6️⃣ Rename branch to main ===\n",
        "git branch -M main\n",
        "\n",
        "# === 7️⃣ Push to GitHub ===\n",
        "git push -u origin main"
      ],
      "metadata": {
        "colab": {
          "base_uri": "https://localhost:8080/",
          "height": 554
        },
        "id": "9fQf5eDCurw6",
        "outputId": "ace695ec-e4da-4c6e-d9d7-cfdbc04ba3b5"
      },
      "execution_count": null,
      "outputs": [
        {
          "output_type": "stream",
          "name": "stdout",
          "text": [
            "❌ No .ipynb file found in /content/drive/MyDrive/Panchatantra\n"
          ]
        },
        {
          "output_type": "error",
          "ename": "CalledProcessError",
          "evalue": "Command 'b'# === CONFIGURE ===\\nGITHUB_EMAIL=\"itsmuruli@gmail.com\"        # your GitHub email\\nGITHUB_NAME=\"itsmurali-code\"              # your GitHub username\\nREPO_DIR=\"/content/drive/MyDrive/Panchatantra\"\\n\\n# === 1\\xef\\xb8\\x8f\\xe2\\x83\\xa3 Set Git identity ===\\ngit config --global user.email \"$GITHUB_EMAIL\"\\ngit config --global user.name \"$GITHUB_NAME\"\\n\\n# === 2\\xef\\xb8\\x8f\\xe2\\x83\\xa3 Go to your repo folder ===\\ncd \"$REPO_DIR\"\\n\\n# === 3\\xef\\xb8\\x8f\\xe2\\x83\\xa3 Find first .ipynb file (even if in subfolders) ===\\nNOTEBOOK_FILE=$(find . -name \"*.ipynb\" | head -n 1)\\n\\nif [ -z \"$NOTEBOOK_FILE\" ]; then\\n    echo \"\\xe2\\x9d\\x8c No .ipynb file found in $REPO_DIR\"\\n    exit 1\\nfi\\n\\necho \"\\xe2\\x9c\\x85 Found notebook: $NOTEBOOK_FILE\"\\n\\n# === 4\\xef\\xb8\\x8f\\xe2\\x83\\xa3 Add the notebook file ===\\ngit add \"$NOTEBOOK_FILE\"\\n\\n# === 5\\xef\\xb8\\x8f\\xe2\\x83\\xa3 Commit changes ===\\ngit commit -m \"Initial commit with story generation code\"\\n\\n# === 6\\xef\\xb8\\x8f\\xe2\\x83\\xa3 Rename branch to main ===\\ngit branch -M main\\n\\n# === 7\\xef\\xb8\\x8f\\xe2\\x83\\xa3 Push to GitHub ===\\ngit push -u origin main\\n'' returned non-zero exit status 1.",
          "traceback": [
            "\u001b[0;31m---------------------------------------------------------------------------\u001b[0m",
            "\u001b[0;31mCalledProcessError\u001b[0m                        Traceback (most recent call last)",
            "\u001b[0;32m/tmp/ipython-input-1390080722.py\u001b[0m in \u001b[0;36m<cell line: 0>\u001b[0;34m()\u001b[0m\n\u001b[0;32m----> 1\u001b[0;31m \u001b[0mget_ipython\u001b[0m\u001b[0;34m(\u001b[0m\u001b[0;34m)\u001b[0m\u001b[0;34m.\u001b[0m\u001b[0mrun_cell_magic\u001b[0m\u001b[0;34m(\u001b[0m\u001b[0;34m'bash'\u001b[0m\u001b[0;34m,\u001b[0m \u001b[0;34m''\u001b[0m\u001b[0;34m,\u001b[0m \u001b[0;34m'# === CONFIGURE ===\\nGITHUB_EMAIL=\"itsmuruli@gmail.com\"        # your GitHub email\\nGITHUB_NAME=\"itsmurali-code\"              # your GitHub username\\nREPO_DIR=\"/content/drive/MyDrive/Panchatantra\"\\n\\n# === 1️⃣ Set Git identity ===\\ngit config --global user.email \"$GITHUB_EMAIL\"\\ngit config --global user.name \"$GITHUB_NAME\"\\n\\n# === 2️⃣ Go to your repo folder ===\\ncd \"$REPO_DIR\"\\n\\n# === 3️⃣ Find first .ipynb file (even if in subfolders) ===\\nNOTEBOOK_FILE=$(find . -name \"*.ipynb\" | head -n 1)\\n\\nif [ -z \"$NOTEBOOK_FILE\" ]; then\\n    echo \"❌ No .ipynb file found in $REPO_DIR\"\\n    exit 1\\nfi\\n\\necho \"✅ Found notebook: $NOTEBOOK_FILE\"\\n\\n# === 4️⃣ Add the notebook file ===\\ngit add \"$NOTEBOOK_FILE\"\\n\\n# === 5️⃣ Commit changes ===\\ngit commit -m \"Initial commit with story generation code\"\\n\\n# === 6️⃣ Rename branch to main ===\\ngit branch -M main\\n\\n# === 7️⃣ Push to GitHub ===\\ngit push -u origin main\\n'\u001b[0m\u001b[0;34m)\u001b[0m\u001b[0;34m\u001b[0m\u001b[0;34m\u001b[0m\u001b[0m\n\u001b[0m",
            "\u001b[0;32m/usr/local/lib/python3.11/dist-packages/google/colab/_shell.py\u001b[0m in \u001b[0;36mrun_cell_magic\u001b[0;34m(self, magic_name, line, cell)\u001b[0m\n\u001b[1;32m    274\u001b[0m     \u001b[0;32mif\u001b[0m \u001b[0mline\u001b[0m \u001b[0;32mand\u001b[0m \u001b[0;32mnot\u001b[0m \u001b[0mcell\u001b[0m\u001b[0;34m:\u001b[0m\u001b[0;34m\u001b[0m\u001b[0;34m\u001b[0m\u001b[0m\n\u001b[1;32m    275\u001b[0m       \u001b[0mcell\u001b[0m \u001b[0;34m=\u001b[0m \u001b[0;34m' '\u001b[0m\u001b[0;34m\u001b[0m\u001b[0;34m\u001b[0m\u001b[0m\n\u001b[0;32m--> 276\u001b[0;31m     \u001b[0;32mreturn\u001b[0m \u001b[0msuper\u001b[0m\u001b[0;34m(\u001b[0m\u001b[0;34m)\u001b[0m\u001b[0;34m.\u001b[0m\u001b[0mrun_cell_magic\u001b[0m\u001b[0;34m(\u001b[0m\u001b[0mmagic_name\u001b[0m\u001b[0;34m,\u001b[0m \u001b[0mline\u001b[0m\u001b[0;34m,\u001b[0m \u001b[0mcell\u001b[0m\u001b[0;34m)\u001b[0m\u001b[0;34m\u001b[0m\u001b[0;34m\u001b[0m\u001b[0m\n\u001b[0m\u001b[1;32m    277\u001b[0m \u001b[0;34m\u001b[0m\u001b[0m\n\u001b[1;32m    278\u001b[0m \u001b[0;34m\u001b[0m\u001b[0m\n",
            "\u001b[0;32m/usr/local/lib/python3.11/dist-packages/IPython/core/interactiveshell.py\u001b[0m in \u001b[0;36mrun_cell_magic\u001b[0;34m(self, magic_name, line, cell)\u001b[0m\n\u001b[1;32m   2471\u001b[0m             \u001b[0;32mwith\u001b[0m \u001b[0mself\u001b[0m\u001b[0;34m.\u001b[0m\u001b[0mbuiltin_trap\u001b[0m\u001b[0;34m:\u001b[0m\u001b[0;34m\u001b[0m\u001b[0;34m\u001b[0m\u001b[0m\n\u001b[1;32m   2472\u001b[0m                 \u001b[0margs\u001b[0m \u001b[0;34m=\u001b[0m \u001b[0;34m(\u001b[0m\u001b[0mmagic_arg_s\u001b[0m\u001b[0;34m,\u001b[0m \u001b[0mcell\u001b[0m\u001b[0;34m)\u001b[0m\u001b[0;34m\u001b[0m\u001b[0;34m\u001b[0m\u001b[0m\n\u001b[0;32m-> 2473\u001b[0;31m                 \u001b[0mresult\u001b[0m \u001b[0;34m=\u001b[0m \u001b[0mfn\u001b[0m\u001b[0;34m(\u001b[0m\u001b[0;34m*\u001b[0m\u001b[0margs\u001b[0m\u001b[0;34m,\u001b[0m \u001b[0;34m**\u001b[0m\u001b[0mkwargs\u001b[0m\u001b[0;34m)\u001b[0m\u001b[0;34m\u001b[0m\u001b[0;34m\u001b[0m\u001b[0m\n\u001b[0m\u001b[1;32m   2474\u001b[0m             \u001b[0;32mreturn\u001b[0m \u001b[0mresult\u001b[0m\u001b[0;34m\u001b[0m\u001b[0;34m\u001b[0m\u001b[0m\n\u001b[1;32m   2475\u001b[0m \u001b[0;34m\u001b[0m\u001b[0m\n",
            "\u001b[0;32m/usr/local/lib/python3.11/dist-packages/IPython/core/magics/script.py\u001b[0m in \u001b[0;36mnamed_script_magic\u001b[0;34m(line, cell)\u001b[0m\n\u001b[1;32m    140\u001b[0m             \u001b[0;32melse\u001b[0m\u001b[0;34m:\u001b[0m\u001b[0;34m\u001b[0m\u001b[0;34m\u001b[0m\u001b[0m\n\u001b[1;32m    141\u001b[0m                 \u001b[0mline\u001b[0m \u001b[0;34m=\u001b[0m \u001b[0mscript\u001b[0m\u001b[0;34m\u001b[0m\u001b[0;34m\u001b[0m\u001b[0m\n\u001b[0;32m--> 142\u001b[0;31m             \u001b[0;32mreturn\u001b[0m \u001b[0mself\u001b[0m\u001b[0;34m.\u001b[0m\u001b[0mshebang\u001b[0m\u001b[0;34m(\u001b[0m\u001b[0mline\u001b[0m\u001b[0;34m,\u001b[0m \u001b[0mcell\u001b[0m\u001b[0;34m)\u001b[0m\u001b[0;34m\u001b[0m\u001b[0;34m\u001b[0m\u001b[0m\n\u001b[0m\u001b[1;32m    143\u001b[0m \u001b[0;34m\u001b[0m\u001b[0m\n\u001b[1;32m    144\u001b[0m         \u001b[0;31m# write a basic docstring:\u001b[0m\u001b[0;34m\u001b[0m\u001b[0;34m\u001b[0m\u001b[0m\n",
            "\u001b[0;32m<decorator-gen-103>\u001b[0m in \u001b[0;36mshebang\u001b[0;34m(self, line, cell)\u001b[0m\n",
            "\u001b[0;32m/usr/local/lib/python3.11/dist-packages/IPython/core/magic.py\u001b[0m in \u001b[0;36m<lambda>\u001b[0;34m(f, *a, **k)\u001b[0m\n\u001b[1;32m    185\u001b[0m     \u001b[0;31m# but it's overkill for just that one bit of state.\u001b[0m\u001b[0;34m\u001b[0m\u001b[0;34m\u001b[0m\u001b[0m\n\u001b[1;32m    186\u001b[0m     \u001b[0;32mdef\u001b[0m \u001b[0mmagic_deco\u001b[0m\u001b[0;34m(\u001b[0m\u001b[0marg\u001b[0m\u001b[0;34m)\u001b[0m\u001b[0;34m:\u001b[0m\u001b[0;34m\u001b[0m\u001b[0;34m\u001b[0m\u001b[0m\n\u001b[0;32m--> 187\u001b[0;31m         \u001b[0mcall\u001b[0m \u001b[0;34m=\u001b[0m \u001b[0;32mlambda\u001b[0m \u001b[0mf\u001b[0m\u001b[0;34m,\u001b[0m \u001b[0;34m*\u001b[0m\u001b[0ma\u001b[0m\u001b[0;34m,\u001b[0m \u001b[0;34m**\u001b[0m\u001b[0mk\u001b[0m\u001b[0;34m:\u001b[0m \u001b[0mf\u001b[0m\u001b[0;34m(\u001b[0m\u001b[0;34m*\u001b[0m\u001b[0ma\u001b[0m\u001b[0;34m,\u001b[0m \u001b[0;34m**\u001b[0m\u001b[0mk\u001b[0m\u001b[0;34m)\u001b[0m\u001b[0;34m\u001b[0m\u001b[0;34m\u001b[0m\u001b[0m\n\u001b[0m\u001b[1;32m    188\u001b[0m \u001b[0;34m\u001b[0m\u001b[0m\n\u001b[1;32m    189\u001b[0m         \u001b[0;32mif\u001b[0m \u001b[0mcallable\u001b[0m\u001b[0;34m(\u001b[0m\u001b[0marg\u001b[0m\u001b[0;34m)\u001b[0m\u001b[0;34m:\u001b[0m\u001b[0;34m\u001b[0m\u001b[0;34m\u001b[0m\u001b[0m\n",
            "\u001b[0;32m/usr/local/lib/python3.11/dist-packages/IPython/core/magics/script.py\u001b[0m in \u001b[0;36mshebang\u001b[0;34m(self, line, cell)\u001b[0m\n\u001b[1;32m    243\u001b[0m             \u001b[0msys\u001b[0m\u001b[0;34m.\u001b[0m\u001b[0mstderr\u001b[0m\u001b[0;34m.\u001b[0m\u001b[0mflush\u001b[0m\u001b[0;34m(\u001b[0m\u001b[0;34m)\u001b[0m\u001b[0;34m\u001b[0m\u001b[0;34m\u001b[0m\u001b[0m\n\u001b[1;32m    244\u001b[0m         \u001b[0;32mif\u001b[0m \u001b[0margs\u001b[0m\u001b[0;34m.\u001b[0m\u001b[0mraise_error\u001b[0m \u001b[0;32mand\u001b[0m \u001b[0mp\u001b[0m\u001b[0;34m.\u001b[0m\u001b[0mreturncode\u001b[0m\u001b[0;34m!=\u001b[0m\u001b[0;36m0\u001b[0m\u001b[0;34m:\u001b[0m\u001b[0;34m\u001b[0m\u001b[0;34m\u001b[0m\u001b[0m\n\u001b[0;32m--> 245\u001b[0;31m             \u001b[0;32mraise\u001b[0m \u001b[0mCalledProcessError\u001b[0m\u001b[0;34m(\u001b[0m\u001b[0mp\u001b[0m\u001b[0;34m.\u001b[0m\u001b[0mreturncode\u001b[0m\u001b[0;34m,\u001b[0m \u001b[0mcell\u001b[0m\u001b[0;34m,\u001b[0m \u001b[0moutput\u001b[0m\u001b[0;34m=\u001b[0m\u001b[0mout\u001b[0m\u001b[0;34m,\u001b[0m \u001b[0mstderr\u001b[0m\u001b[0;34m=\u001b[0m\u001b[0merr\u001b[0m\u001b[0;34m)\u001b[0m\u001b[0;34m\u001b[0m\u001b[0;34m\u001b[0m\u001b[0m\n\u001b[0m\u001b[1;32m    246\u001b[0m \u001b[0;34m\u001b[0m\u001b[0m\n\u001b[1;32m    247\u001b[0m     \u001b[0;32mdef\u001b[0m \u001b[0m_run_script\u001b[0m\u001b[0;34m(\u001b[0m\u001b[0mself\u001b[0m\u001b[0;34m,\u001b[0m \u001b[0mp\u001b[0m\u001b[0;34m,\u001b[0m \u001b[0mcell\u001b[0m\u001b[0;34m,\u001b[0m \u001b[0mto_close\u001b[0m\u001b[0;34m)\u001b[0m\u001b[0;34m:\u001b[0m\u001b[0;34m\u001b[0m\u001b[0;34m\u001b[0m\u001b[0m\n",
            "\u001b[0;31mCalledProcessError\u001b[0m: Command 'b'# === CONFIGURE ===\\nGITHUB_EMAIL=\"itsmuruli@gmail.com\"        # your GitHub email\\nGITHUB_NAME=\"itsmurali-code\"              # your GitHub username\\nREPO_DIR=\"/content/drive/MyDrive/Panchatantra\"\\n\\n# === 1\\xef\\xb8\\x8f\\xe2\\x83\\xa3 Set Git identity ===\\ngit config --global user.email \"$GITHUB_EMAIL\"\\ngit config --global user.name \"$GITHUB_NAME\"\\n\\n# === 2\\xef\\xb8\\x8f\\xe2\\x83\\xa3 Go to your repo folder ===\\ncd \"$REPO_DIR\"\\n\\n# === 3\\xef\\xb8\\x8f\\xe2\\x83\\xa3 Find first .ipynb file (even if in subfolders) ===\\nNOTEBOOK_FILE=$(find . -name \"*.ipynb\" | head -n 1)\\n\\nif [ -z \"$NOTEBOOK_FILE\" ]; then\\n    echo \"\\xe2\\x9d\\x8c No .ipynb file found in $REPO_DIR\"\\n    exit 1\\nfi\\n\\necho \"\\xe2\\x9c\\x85 Found notebook: $NOTEBOOK_FILE\"\\n\\n# === 4\\xef\\xb8\\x8f\\xe2\\x83\\xa3 Add the notebook file ===\\ngit add \"$NOTEBOOK_FILE\"\\n\\n# === 5\\xef\\xb8\\x8f\\xe2\\x83\\xa3 Commit changes ===\\ngit commit -m \"Initial commit with story generation code\"\\n\\n# === 6\\xef\\xb8\\x8f\\xe2\\x83\\xa3 Rename branch to main ===\\ngit branch -M main\\n\\n# === 7\\xef\\xb8\\x8f\\xe2\\x83\\xa3 Push to GitHub ===\\ngit push -u origin main\\n'' returned non-zero exit status 1."
          ]
        }
      ]
    }
  ]
}